{
 "cells": [
  {
   "cell_type": "markdown",
   "metadata": {},
   "source": [
    "# General Workflow for Generating EES in 2020 Science Advances Manuscript\n",
    "All scripts were executed in Python 3.7.3. We used MELD v0.0, MAGIC, v1.5.5, and SCPREP v0.12 packages from the Krishnaswami lab, using their examples as a foundation. Please reach out to Corey Duke (cgduke@uab.edu) or Jeremy Day (jjday@uab.edu) if you have any questions about our specific workflow."
   ]
  },
  {
   "cell_type": "code",
   "execution_count": 1,
   "metadata": {},
   "outputs": [],
   "source": [
    "# import packages and dependencies\n",
    "import pandas as pd\n",
    "import numpy as np\n",
    "import graphtools as gt\n",
    "import phate\n",
    "import magic\n",
    "import scprep\n",
    "import meld"
   ]
  },
  {
   "cell_type": "code",
   "execution_count": 2,
   "metadata": {},
   "outputs": [],
   "source": [
    "# setting defaults for matplotlib font sizes\n",
    "import matplotlib.pyplot as plt\n",
    "plt.rc('font', size=12)"
   ]
  },
  {
   "cell_type": "code",
   "execution_count": 3,
   "metadata": {},
   "outputs": [],
   "source": [
    "# making sure plots & clusters are reproducible\n",
    "np.random.seed(42)"
   ]
  },
  {
   "cell_type": "code",
   "execution_count": 4,
   "metadata": {},
   "outputs": [],
   "source": [
    "# loading in csv file containing data. This was generated from the seurat object All_Groups_log assay of read counts.\n",
    "data = scprep.io.load_csv('Data/culture/All_Counts_Culture.csv', cell_axis='column')\n"
   ]
  },
  {
   "cell_type": "code",
   "execution_count": 5,
   "metadata": {},
   "outputs": [],
   "source": [
    "#loading in csv file containing metadata. This was generated from All_Groups_log@meta.data in seurat.\n",
    "metadata = scprep.io.load_csv('Data/culture/All_Counts_Metadata_Culture.csv')\n",
    " "
   ]
  },
  {
   "cell_type": "code",
   "execution_count": 6,
   "metadata": {},
   "outputs": [],
   "source": [
    "# map cluster names to cluster ids\n",
    "def cluster (row):\n",
    "   if row['seurat_clusters'] == 0 :\n",
    "      return 'GABA-1'\n",
    "   if row['seurat_clusters'] == 1 :\n",
    "      return 'Drd1'\n",
    "   if row['seurat_clusters'] == 2 :\n",
    "      return 'GABA-2'\n",
    "   if row['seurat_clusters'] == 3 :\n",
    "      return 'Poly'  \n",
    "   if row['seurat_clusters'] == 4 :\n",
    "      return 'Drd2'\n",
    "metadata['cluster'] = metadata.apply (lambda row: cluster(row), axis=1)"
   ]
  },
  {
   "cell_type": "markdown",
   "metadata": {},
   "source": [
    "# Dopamine Stim"
   ]
  },
  {
   "cell_type": "code",
   "execution_count": 7,
   "metadata": {},
   "outputs": [],
   "source": [
    "#cluster metadata and data by treatment\n",
    "is_tx = metadata['Stim'] == 'Veh'\n",
    "x = metadata[is_tx]\n",
    "is_tx2 = metadata['Stim'] == 'DA'\n",
    "y = metadata[is_tx2]\n",
    "metadata_da = pd.concat([x,y])\n",
    "\n",
    "#cluster data by treatment\n",
    "indexNames = metadata_da.index\n",
    "ids=data.index.isin(metadata_da.index) == True\n",
    "data_da = scprep.select.select_rows(data, idx=ids)"
   ]
  },
  {
   "cell_type": "code",
   "execution_count": 8,
   "metadata": {},
   "outputs": [],
   "source": [
    "# Create an indicator array for the sample. This is also the Raw Experimental Signal (RES).\n",
    "metadata_da['RES'] = np.array([-1 if label.startswith('Veh') else 1 for label in metadata_da['Stim']])\n"
   ]
  },
  {
   "cell_type": "code",
   "execution_count": 9,
   "metadata": {},
   "outputs": [],
   "source": [
    "# sort clusters by abundance\n",
    "cluster_abundance = metadata_da.groupby('cluster').aggregate({'RES':np.mean}).sort_values('RES')\n",
    "cluster_abundance['newClusterID'] = np.arange(cluster_abundance.shape[0])\n"
   ]
  },
  {
   "cell_type": "code",
   "execution_count": 10,
   "metadata": {},
   "outputs": [],
   "source": [
    "# relabel existing clusters in metadata\n",
    "new_clusters = cluster_abundance.loc[metadata_da['cluster']]['newClusterID']\n",
    "new_clusters.index = metadata_da.index\n",
    "metadata_da['clusterID'] = new_clusters"
   ]
  },
  {
   "cell_type": "code",
   "execution_count": 11,
   "metadata": {},
   "outputs": [],
   "source": [
    "# remove lowly expressed genes\n",
    "data_da = scprep.filter.filter_rare_genes(data_da, min_cells=5)"
   ]
  },
  {
   "cell_type": "code",
   "execution_count": 12,
   "metadata": {
    "scrolled": true
   },
   "outputs": [
    {
     "name": "stdout",
     "output_type": "stream",
     "text": [
      "Calculating PCA...\n",
      "Calculated PCA in 1.09 seconds.\n",
      "Calculating KNN search...\n",
      "Calculated KNN search in 0.12 seconds.\n",
      "Calculating affinities...\n",
      "Calculated affinities in 0.20 seconds.\n"
     ]
    }
   ],
   "source": [
    "# create the primary graph\n",
    "G = gt.Graph(data_da, knn=9, decay=10, n_pca=100, use_pygsp=True, n_jobs=-2, verbose=True)"
   ]
  },
  {
   "cell_type": "code",
   "execution_count": 13,
   "metadata": {},
   "outputs": [
    {
     "name": "stdout",
     "output_type": "stream",
     "text": [
      "Calculating MAGIC...\n",
      "  Running MAGIC on 1449 cells and 13646 genes.\n",
      "  Using precomputed graph and diffusion operator...\n",
      "  Calculating imputation...\n",
      "    Automatically selected t = 14\n",
      "  Calculated imputation in 0.35 seconds.\n",
      "Calculated MAGIC in 0.72 seconds.\n"
     ]
    }
   ],
   "source": [
    "#impute gene expression using MAGIC to calculate EES\n",
    "magic_op = magic.MAGIC(knn=G.knn, decay=G.decay)\n",
    "data_da_magic = magic_op.fit_transform(data_da, graph=G)"
   ]
  },
  {
   "cell_type": "code",
   "execution_count": 14,
   "metadata": {},
   "outputs": [],
   "source": [
    "# generate EES using the main graph and magic transformed data\n",
    "meld_op = meld.MELD()\n",
    "cocaine_ees = meld_op.fit_transform(metadata_da['RES'], G)\n",
    "# mean center the EES\n",
    "cocaine_ees = cocaine_ees - np.mean(cocaine_ees)\n",
    "\n",
    "metadata_da['EES'] = cocaine_ees"
   ]
  },
  {
   "cell_type": "code",
   "execution_count": 15,
   "metadata": {
    "scrolled": true
   },
   "outputs": [],
   "source": [
    "#Build EES gene correlation dataframe and tables. Calculate and include Log2FC in tables.\n",
    "#Note: Will give an expected divide by zero error, as we are not adding an integer to get around the log2 fold change\n",
    "# divide by zero issue, which would artificially penalize lowly expressed genes.\n",
    "\n",
    "import warnings; #these two lines will disable display of the divide by zero warning mentioned above.\n",
    "warnings.filterwarnings('ignore');\n",
    "\n",
    "cluster_list = ['Drd1','Drd2','GABA-1','GABA-2','Poly']\n",
    "\n",
    "for j in cluster_list:\n",
    "    cluster_name = j\n",
    "\n",
    "    # calc logfc - un-normalize data (nonlogp1)\n",
    "    is_in_cluster = metadata_da['cluster'] == cluster_name\n",
    "    data_cluster, metadata_cluster = scprep.select.select_rows(data_da, metadata_da, idx=is_in_cluster)\n",
    "    data_cluster = (np.e ** data_cluster) -1\n",
    "    tx_name = 'Veh'\n",
    "    is_in_tx = metadata_cluster['Stim'] == tx_name\n",
    "    data_tx, metadata_tx = scprep.select.select_rows(data_cluster, metadata_cluster, idx=is_in_tx)\n",
    "    tx_name = 'DA'\n",
    "    is_in_tx = metadata_cluster['Stim'] == tx_name\n",
    "    data_tx2, metadata_tx2 = scprep.select.select_rows(data_cluster, metadata_cluster, idx=is_in_tx)\n",
    "\n",
    "    # calc fold change (non log plus one)\n",
    "    mean_veh = data_tx.mean(axis=0)\n",
    "    mean_tx = data_tx2.mean(axis=0)\n",
    "    FC = mean_tx / mean_veh\n",
    "    FC_log = np.log2(FC)\n",
    "    FC_log = FC_log.replace([np.inf, -np.inf], np.nan)\n",
    "    FC_log = FC_log.dropna()\n",
    "    fc_genes = FC_log.reset_index()\n",
    "    fc_genes.columns = ['gene','logFC']\n",
    "\n",
    "    # calculate pearson's r\n",
    "    is_in_cluster = metadata_da['cluster'] == cluster_name\n",
    "    data_cluster, metadata_cluster = scprep.select.select_rows(data_da, metadata_da, idx=is_in_cluster)\n",
    "\n",
    "    gene_list = fc_genes['gene']\n",
    "    gene_list = np.array(gene_list)\n",
    "\n",
    "    fc_list = fc_genes['logFC']\n",
    "    fc_list = np.array(fc_list)\n",
    "\n",
    "    dremi_list = []\n",
    "    for i in gene_list:\n",
    "        value = scprep.stats.pairwise_correlation(metadata_cluster['EES'], data_cluster[i])\n",
    "        dremi_list.append(value)\n",
    "\n",
    "    # rank by pearson and build dataframe\n",
    "    dremi_cluster = pd.DataFrame({'Gene':gene_list, 'r_val':dremi_list, 'log2FC':fc_list})\n",
    "    dremi_cluster = dremi_cluster.sort_values(by=['r_val'], ascending=False)\n",
    "    dremi_cluster['r_Rank'] = [1 * i for i in range(len(dremi_cluster))]\n",
    "    dremi_cluster['r_val'] = dremi_cluster['r_val'].str[0] #remove brackets\n",
    "    dremi_cluster['r_val'] = dremi_cluster['r_val'].str[0]\n",
    "    \n",
    "    #save cluster data\n",
    "    dremi_cluster.to_csv('Data/DA_'+cluster_name+'_Pearson_FC_by_Gene(no_cutoff).csv', index=False, header=True)\n",
    "\n"
   ]
  },
  {
   "cell_type": "markdown",
   "metadata": {},
   "source": [
    "# SKF Stim"
   ]
  },
  {
   "cell_type": "code",
   "execution_count": 16,
   "metadata": {},
   "outputs": [],
   "source": [
    "#cluster metadata and data by treatment\n",
    "is_tx = metadata['Stim'] == 'Veh'\n",
    "x = metadata[is_tx]\n",
    "is_tx2 = metadata['Stim'] == 'SKF'\n",
    "y = metadata[is_tx2]\n",
    "metadata_skf = pd.concat([x,y])\n",
    "\n",
    "#cluster data by treatment\n",
    "indexNames = metadata_skf.index\n",
    "ids=data.index.isin(metadata_skf.index) == True\n",
    "data_skf = scprep.select.select_rows(data, idx=ids)"
   ]
  },
  {
   "cell_type": "code",
   "execution_count": 17,
   "metadata": {},
   "outputs": [],
   "source": [
    "# Create an indicator array for the sample. This is also the Raw Experimental Signal (RES).\n",
    "metadata_skf['RES'] = np.array([-1 if label.startswith('Veh') else 1 for label in metadata_skf['Stim']])\n"
   ]
  },
  {
   "cell_type": "code",
   "execution_count": 18,
   "metadata": {},
   "outputs": [],
   "source": [
    "# sort clusters by abundance\n",
    "cluster_abundance = metadata_skf.groupby('cluster').aggregate({'RES':np.mean}).sort_values('RES')\n",
    "cluster_abundance['newClusterID'] = np.arange(cluster_abundance.shape[0])\n"
   ]
  },
  {
   "cell_type": "code",
   "execution_count": 19,
   "metadata": {},
   "outputs": [],
   "source": [
    "# relabel existing clusters in metadata\n",
    "new_clusters = cluster_abundance.loc[metadata_skf['cluster']]['newClusterID']\n",
    "new_clusters.index = metadata_skf.index\n",
    "metadata_skf['clusterID'] = new_clusters"
   ]
  },
  {
   "cell_type": "code",
   "execution_count": 20,
   "metadata": {},
   "outputs": [],
   "source": [
    "# remove lowly expressed genes\n",
    "data_skf = scprep.filter.filter_rare_genes(data_skf, min_cells=5)"
   ]
  },
  {
   "cell_type": "code",
   "execution_count": 21,
   "metadata": {
    "scrolled": true
   },
   "outputs": [
    {
     "name": "stdout",
     "output_type": "stream",
     "text": [
      "Calculating PCA...\n",
      "Calculated PCA in 1.18 seconds.\n",
      "Calculating KNN search...\n",
      "Calculated KNN search in 0.11 seconds.\n",
      "Calculating affinities...\n",
      "Calculated affinities in 0.23 seconds.\n"
     ]
    }
   ],
   "source": [
    "# create the primary graph\n",
    "G = gt.Graph(data_skf, knn=9, decay=10, n_pca=100, use_pygsp=True, n_jobs=-2, verbose=True)"
   ]
  },
  {
   "cell_type": "code",
   "execution_count": 22,
   "metadata": {},
   "outputs": [
    {
     "name": "stdout",
     "output_type": "stream",
     "text": [
      "Calculating MAGIC...\n",
      "  Running MAGIC on 1599 cells and 13784 genes.\n",
      "  Using precomputed graph and diffusion operator...\n",
      "  Calculating imputation...\n",
      "    Automatically selected t = 15\n",
      "  Calculated imputation in 0.41 seconds.\n",
      "Calculated MAGIC in 0.79 seconds.\n"
     ]
    }
   ],
   "source": [
    "#impute gene expression using MAGIC to calculate EES\n",
    "magic_op = magic.MAGIC(knn=G.knn, decay=G.decay)\n",
    "data_skf_magic = magic_op.fit_transform(data_skf, graph=G)"
   ]
  },
  {
   "cell_type": "code",
   "execution_count": 23,
   "metadata": {},
   "outputs": [],
   "source": [
    "# generate EES using the main graph and magic transformed data\n",
    "meld_op = meld.MELD()\n",
    "cocaine_ees = meld_op.fit_transform(metadata_skf['RES'], G)\n",
    "# mean center the EES\n",
    "cocaine_ees = cocaine_ees - np.mean(cocaine_ees)\n",
    "\n",
    "metadata_skf['EES'] = cocaine_ees"
   ]
  },
  {
   "cell_type": "code",
   "execution_count": 24,
   "metadata": {
    "scrolled": true
   },
   "outputs": [],
   "source": [
    "#Build EES gene correlation dataframe and tables. Calculate and include Log2FC in tables.\n",
    "#Note: Will give an expected divide by zero error, as we are not adding an integer to get around the log2 fold change\n",
    "# divide by zero issue, which would artificially penalize lowly expressed genes.\n",
    "\n",
    "import warnings; #these two lines will disable display of the divide by zero warning mentioned above.\n",
    "warnings.filterwarnings('ignore');\n",
    "\n",
    "cluster_list = ['Drd1','Drd2','GABA-1','GABA-2','Poly']\n",
    "\n",
    "for j in cluster_list:\n",
    "    cluster_name = j\n",
    "\n",
    "    # calc logfc - un-normalize data (nonlogp1)\n",
    "    is_in_cluster = metadata_skf['cluster'] == cluster_name\n",
    "    data_cluster, metadata_cluster = scprep.select.select_rows(data_skf, metadata_skf, idx=is_in_cluster)\n",
    "    data_cluster = (np.e ** data_cluster) -1\n",
    "    tx_name = 'Veh'\n",
    "    is_in_tx = metadata_cluster['Stim'] == tx_name\n",
    "    data_tx, metadata_tx = scprep.select.select_rows(data_cluster, metadata_cluster, idx=is_in_tx)\n",
    "    tx_name = 'SKF'\n",
    "    is_in_tx = metadata_cluster['Stim'] == tx_name\n",
    "    data_tx2, metadata_tx2 = scprep.select.select_rows(data_cluster, metadata_cluster, idx=is_in_tx)\n",
    "\n",
    "    # calc fold change (non log plus one)\n",
    "    mean_veh = data_tx.mean(axis=0)\n",
    "    mean_tx = data_tx2.mean(axis=0)\n",
    "    FC = mean_tx / mean_veh\n",
    "    FC_log = np.log2(FC)\n",
    "    FC_log = FC_log.replace([np.inf, -np.inf], np.nan)\n",
    "    FC_log = FC_log.dropna()\n",
    "    fc_genes = FC_log.reset_index()\n",
    "    fc_genes.columns = ['gene','logFC']\n",
    "\n",
    "    # calculate pearson's r\n",
    "    is_in_cluster = metadata_skf['cluster'] == cluster_name\n",
    "    data_cluster, metadata_cluster = scprep.select.select_rows(data_skf, metadata_skf, idx=is_in_cluster)\n",
    "\n",
    "    gene_list = fc_genes['gene']\n",
    "    gene_list = np.array(gene_list)\n",
    "\n",
    "    fc_list = fc_genes['logFC']\n",
    "    fc_list = np.array(fc_list)\n",
    "\n",
    "    dremi_list = []\n",
    "    for i in gene_list:\n",
    "        value = scprep.stats.pairwise_correlation(metadata_cluster['EES'], data_cluster[i])\n",
    "        dremi_list.append(value)\n",
    "\n",
    "    # rank by pearson and build dataframe\n",
    "    dremi_cluster = pd.DataFrame({'Gene':gene_list, 'r_val':dremi_list, 'log2FC':fc_list})\n",
    "    dremi_cluster = dremi_cluster.sort_values(by=['r_val'], ascending=False)\n",
    "    dremi_cluster['r_Rank'] = [1 * i for i in range(len(dremi_cluster))]\n",
    "    dremi_cluster['r_val'] = dremi_cluster['r_val'].str[0] #remove brackets\n",
    "    dremi_cluster['r_val'] = dremi_cluster['r_val'].str[0]\n",
    "    \n",
    "    #save cluster data\n",
    "    dremi_cluster.to_csv('Data/SKF_'+cluster_name+'_Pearson_FC_by_Gene(no_cutoff).csv', index=False, header=True)\n",
    "\n"
   ]
  },
  {
   "cell_type": "markdown",
   "metadata": {},
   "source": [
    "# KCl Stim"
   ]
  },
  {
   "cell_type": "code",
   "execution_count": 25,
   "metadata": {},
   "outputs": [],
   "source": [
    "#cluster metadata and data by treatment\n",
    "is_tx = metadata['Stim'] == 'Veh'\n",
    "x = metadata[is_tx]\n",
    "is_tx2 = metadata['Stim'] == 'KCl'\n",
    "y = metadata[is_tx2]\n",
    "metadata_kcl = pd.concat([x,y])\n",
    "\n",
    "#cluster data by treatment\n",
    "indexNames = metadata_kcl.index\n",
    "ids=data.index.isin(metadata_kcl.index) == True\n",
    "data_kcl = scprep.select.select_rows(data, idx=ids)"
   ]
  },
  {
   "cell_type": "code",
   "execution_count": 26,
   "metadata": {},
   "outputs": [],
   "source": [
    "# Create an indicator array for the sample. This is also the Raw Experimental Signal (RES).\n",
    "metadata_kcl['RES'] = np.array([-1 if label.startswith('Veh') else 1 for label in metadata_kcl['Stim']])\n"
   ]
  },
  {
   "cell_type": "code",
   "execution_count": 27,
   "metadata": {},
   "outputs": [],
   "source": [
    "# sort clusters by abundance\n",
    "cluster_abundance = metadata_kcl.groupby('cluster').aggregate({'RES':np.mean}).sort_values('RES')\n",
    "cluster_abundance['newClusterID'] = np.arange(cluster_abundance.shape[0])\n"
   ]
  },
  {
   "cell_type": "code",
   "execution_count": 28,
   "metadata": {},
   "outputs": [],
   "source": [
    "# relabel existing clusters in metadata\n",
    "new_clusters = cluster_abundance.loc[metadata_kcl['cluster']]['newClusterID']\n",
    "new_clusters.index = metadata_kcl.index\n",
    "metadata_kcl['clusterID'] = new_clusters"
   ]
  },
  {
   "cell_type": "code",
   "execution_count": 29,
   "metadata": {},
   "outputs": [],
   "source": [
    "# remove lowly expressed genes\n",
    "data_kcl = scprep.filter.filter_rare_genes(data_kcl, min_cells=5)"
   ]
  },
  {
   "cell_type": "code",
   "execution_count": 30,
   "metadata": {
    "scrolled": true
   },
   "outputs": [
    {
     "name": "stdout",
     "output_type": "stream",
     "text": [
      "Calculating PCA...\n",
      "Calculated PCA in 1.43 seconds.\n",
      "Calculating KNN search...\n",
      "Calculated KNN search in 0.12 seconds.\n",
      "Calculating affinities...\n",
      "Calculated affinities in 0.22 seconds.\n"
     ]
    }
   ],
   "source": [
    "# create the primary graph\n",
    "G = gt.Graph(data_kcl, knn=9, decay=10, n_pca=100, use_pygsp=True, n_jobs=-2, verbose=True)"
   ]
  },
  {
   "cell_type": "code",
   "execution_count": 31,
   "metadata": {},
   "outputs": [
    {
     "name": "stdout",
     "output_type": "stream",
     "text": [
      "Calculating MAGIC...\n",
      "  Running MAGIC on 1769 cells and 14012 genes.\n",
      "  Using precomputed graph and diffusion operator...\n",
      "  Calculating imputation...\n",
      "    Automatically selected t = 14\n",
      "  Calculated imputation in 0.37 seconds.\n",
      "Calculated MAGIC in 0.85 seconds.\n"
     ]
    }
   ],
   "source": [
    "#impute gene expression using MAGIC to calculate EES\n",
    "magic_op = magic.MAGIC(knn=G.knn, decay=G.decay)\n",
    "data_kcl_magic = magic_op.fit_transform(data_kcl, graph=G)"
   ]
  },
  {
   "cell_type": "code",
   "execution_count": 32,
   "metadata": {},
   "outputs": [],
   "source": [
    "# generate EES using the main graph and magic transformed data\n",
    "meld_op = meld.MELD()\n",
    "cocaine_ees = meld_op.fit_transform(metadata_kcl['RES'], G)\n",
    "# mean center the EES\n",
    "cocaine_ees = cocaine_ees - np.mean(cocaine_ees)\n",
    "\n",
    "metadata_kcl['EES'] = cocaine_ees"
   ]
  },
  {
   "cell_type": "code",
   "execution_count": 33,
   "metadata": {
    "scrolled": true
   },
   "outputs": [],
   "source": [
    "#Build EES gene correlation dataframe and tables. Calculate and include Log2FC in tables.\n",
    "#Note: Will give an expected divide by zero error, as we are not adding an integer to get around the log2 fold change\n",
    "# divide by zero issue, which would artificially penalize lowly expressed genes.\n",
    "\n",
    "import warnings; #these two lines will disable display of the divide by zero warning mentioned above.\n",
    "warnings.filterwarnings('ignore');\n",
    "\n",
    "cluster_list = ['Drd1','Drd2','GABA-1','GABA-2','Poly']\n",
    "\n",
    "for j in cluster_list:\n",
    "    cluster_name = j\n",
    "\n",
    "    # calc logfc - un-normalize data (nonlogp1)\n",
    "    is_in_cluster = metadata_kcl['cluster'] == cluster_name\n",
    "    data_cluster, metadata_cluster = scprep.select.select_rows(data_kcl, metadata_kcl, idx=is_in_cluster)\n",
    "    data_cluster = (np.e ** data_cluster) -1\n",
    "    tx_name = 'Veh'\n",
    "    is_in_tx = metadata_cluster['Stim'] == tx_name\n",
    "    data_tx, metadata_tx = scprep.select.select_rows(data_cluster, metadata_cluster, idx=is_in_tx)\n",
    "    tx_name = 'KCl'\n",
    "    is_in_tx = metadata_cluster['Stim'] == tx_name\n",
    "    data_tx2, metadata_tx2 = scprep.select.select_rows(data_cluster, metadata_cluster, idx=is_in_tx)\n",
    "\n",
    "    # calc fold change (non log plus one)\n",
    "    mean_veh = data_tx.mean(axis=0)\n",
    "    mean_tx = data_tx2.mean(axis=0)\n",
    "    FC = mean_tx / mean_veh\n",
    "    FC_log = np.log2(FC)\n",
    "    FC_log = FC_log.replace([np.inf, -np.inf], np.nan)\n",
    "    FC_log = FC_log.dropna()\n",
    "    fc_genes = FC_log.reset_index()\n",
    "    fc_genes.columns = ['gene','logFC']\n",
    "\n",
    "    # calculate pearson's r\n",
    "    is_in_cluster = metadata_kcl['cluster'] == cluster_name\n",
    "    data_cluster, metadata_cluster = scprep.select.select_rows(data_kcl, metadata_kcl, idx=is_in_cluster)\n",
    "\n",
    "    gene_list = fc_genes['gene']\n",
    "    gene_list = np.array(gene_list)\n",
    "\n",
    "    fc_list = fc_genes['logFC']\n",
    "    fc_list = np.array(fc_list)\n",
    "\n",
    "    dremi_list = []\n",
    "    for i in gene_list:\n",
    "        value = scprep.stats.pairwise_correlation(metadata_cluster['EES'], data_cluster[i])\n",
    "        dremi_list.append(value)\n",
    "\n",
    "    # rank by pearson and build dataframe\n",
    "    dremi_cluster = pd.DataFrame({'Gene':gene_list, 'r_val':dremi_list, 'log2FC':fc_list})\n",
    "    dremi_cluster = dremi_cluster.sort_values(by=['r_val'], ascending=False)\n",
    "    dremi_cluster['r_Rank'] = [1 * i for i in range(len(dremi_cluster))]\n",
    "    dremi_cluster['r_val'] = dremi_cluster['r_val'].str[0] #remove brackets\n",
    "    dremi_cluster['r_val'] = dremi_cluster['r_val'].str[0]\n",
    "    \n",
    "    #save cluster data\n",
    "    dremi_cluster.to_csv('Data/KCl_'+cluster_name+'_Pearson_FC_by_Gene(no_cutoff).csv', index=False, header=True)\n",
    "\n"
   ]
  }
 ],
 "metadata": {
  "kernelspec": {
   "display_name": "Python 3",
   "language": "python",
   "name": "python3"
  },
  "language_info": {
   "codemirror_mode": {
    "name": "ipython",
    "version": 3
   },
   "file_extension": ".py",
   "mimetype": "text/x-python",
   "name": "python",
   "nbconvert_exporter": "python",
   "pygments_lexer": "ipython3",
   "version": "3.7.3"
  }
 },
 "nbformat": 4,
 "nbformat_minor": 2
}
